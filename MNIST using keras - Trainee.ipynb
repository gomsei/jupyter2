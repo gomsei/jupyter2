{
 "cells": [
  {
   "cell_type": "markdown",
   "metadata": {},
   "source": [
    "# MNIST using keras"
   ]
  },
  {
   "cell_type": "markdown",
   "metadata": {},
   "source": [
    "## Import packages\n",
    "\n",
    "np_utils는 유틸리티 라이브러리이고 mnist는 우리가 사용하고자 하는 데이터 세트입니다.\n",
    "\n",
    "직접 데이터를 받고자 하는 경우 다음 사이트를 참고하세요.\n",
    "http://yann.lecun.com/exdb/mnist/"
   ]
  },
  {
   "cell_type": "code",
   "execution_count": 143,
   "metadata": {},
   "outputs": [],
   "source": [
    "from keras.utils import np_utils\n",
    "from keras.datasets import mnist\n",
    "from keras.models import Sequential\n",
    "from keras.layers import Dense, Activation"
   ]
  },
  {
   "cell_type": "markdown",
   "metadata": {},
   "source": [
    "## Load data sets"
   ]
  },
  {
   "cell_type": "markdown",
   "metadata": {},
   "source": [
    "아래 구문을 이용해서 mnist 데이터 세트를 로드합시다.\n",
    "\n",
    "    mnist.load_data()\n",
    "    \n",
    "학습데이터와 테스트데이터, 2개의 tuple로 데이터가 리턴됩니다. 2개의 tuple은 다시 데이터와 레이블로 구성되어 있습니다."
   ]
  },
  {
   "cell_type": "code",
   "execution_count": 144,
   "metadata": {},
   "outputs": [],
   "source": [
    "# train, test = mnist.load_data()\n",
    "# x_train, y_train = train\n",
    "# x_test, y_test = test"
   ]
  },
  {
   "cell_type": "markdown",
   "metadata": {},
   "source": [
    "### Quiz\n",
    "\n",
    "위의 3줄을 한 줄로 표현해 보세요."
   ]
  },
  {
   "cell_type": "code",
   "execution_count": 145,
   "metadata": {},
   "outputs": [],
   "source": [
    "(x_train, y_train), (x_test, y_test) = mnist.load_data()"
   ]
  },
  {
   "cell_type": "markdown",
   "metadata": {},
   "source": [
    "### 입력 데이터 살펴 보기\n",
    "\n",
    "x_train과 x_test의 데이터 형태를 확인해 봅시다. 어떻게 하죠?"
   ]
  },
  {
   "cell_type": "code",
   "execution_count": 146,
   "metadata": {},
   "outputs": [
    {
     "data": {
      "text/plain": [
       "(60000, 28, 28)"
      ]
     },
     "execution_count": 146,
     "metadata": {},
     "output_type": "execute_result"
    }
   ],
   "source": [
    "x_train.shape"
   ]
  },
  {
   "cell_type": "code",
   "execution_count": 147,
   "metadata": {},
   "outputs": [
    {
     "data": {
      "text/plain": [
       "(10000, 28, 28)"
      ]
     },
     "execution_count": 147,
     "metadata": {},
     "output_type": "execute_result"
    }
   ],
   "source": [
    "x_test.shape"
   ]
  },
  {
   "cell_type": "markdown",
   "metadata": {},
   "source": [
    "### Quiz\n",
    "\n",
    "어떤 데이터가 더 많나요?"
   ]
  },
  {
   "cell_type": "markdown",
   "metadata": {},
   "source": [
    "### 입력 데이터 변형하기 \n",
    "\n",
    "x_train과 x_test 데이터를 학습하기 좋은 형태로 변형합시다.\n",
    "\n",
    "- 각 채널의 데이터를 하나의 리스트로 변경합시다.\n",
    "- 각 픽셀의 값을 normalize합시다."
   ]
  },
  {
   "cell_type": "code",
   "execution_count": 148,
   "metadata": {},
   "outputs": [],
   "source": [
    "x_train_norm = x_train.reshape(60000, 784).astype('float32') / 255.0"
   ]
  },
  {
   "cell_type": "code",
   "execution_count": 149,
   "metadata": {},
   "outputs": [],
   "source": [
    "x_test_norm = x_test.reshape(10000, 784).astype('float32') / 255.0"
   ]
  },
  {
   "cell_type": "markdown",
   "metadata": {},
   "source": [
    "제대로 변형되었는지 확인합시다."
   ]
  },
  {
   "cell_type": "code",
   "execution_count": 150,
   "metadata": {},
   "outputs": [
    {
     "data": {
      "text/plain": [
       "(60000, 784)"
      ]
     },
     "execution_count": 150,
     "metadata": {},
     "output_type": "execute_result"
    }
   ],
   "source": [
    "x_train_norm.shape"
   ]
  },
  {
   "cell_type": "code",
   "execution_count": 151,
   "metadata": {},
   "outputs": [
    {
     "data": {
      "text/plain": [
       "(10000, 784)"
      ]
     },
     "execution_count": 151,
     "metadata": {},
     "output_type": "execute_result"
    }
   ],
   "source": [
    "x_test_norm.shape"
   ]
  },
  {
   "cell_type": "markdown",
   "metadata": {},
   "source": [
    "### 레이블 데이터 살펴보기\n",
    "\n",
    "y_train과 y_test에 어떤 값들이 들어 있는지 확인해 봅시다."
   ]
  },
  {
   "cell_type": "code",
   "execution_count": 152,
   "metadata": {},
   "outputs": [
    {
     "data": {
      "text/plain": [
       "array([5, 0, 4, ..., 5, 6, 8], dtype=uint8)"
      ]
     },
     "execution_count": 152,
     "metadata": {},
     "output_type": "execute_result"
    }
   ],
   "source": [
    "y_train"
   ]
  },
  {
   "cell_type": "code",
   "execution_count": 153,
   "metadata": {},
   "outputs": [
    {
     "data": {
      "text/plain": [
       "array([7, 2, 1, ..., 4, 5, 6], dtype=uint8)"
      ]
     },
     "execution_count": 153,
     "metadata": {},
     "output_type": "execute_result"
    }
   ],
   "source": [
    "y_test"
   ]
  },
  {
   "cell_type": "markdown",
   "metadata": {},
   "source": [
    "### 레이블 데이터 변형하기\n",
    "\n",
    "아래 구문을 이용해서 y_train과 y_test, 2개의 레이블 데이터를 one-hot 형태로 변형합시다.\n",
    "\n",
    "        np_utils.to_categorical(데이터)\n",
    "       "
   ]
  },
  {
   "cell_type": "code",
   "execution_count": 154,
   "metadata": {},
   "outputs": [],
   "source": [
    "y_train_mod = np_utils.to_categorical(y_train)\n",
    "y_test_mod = np_utils.to_categorical(y_test)"
   ]
  },
  {
   "cell_type": "markdown",
   "metadata": {},
   "source": [
    "제대로 변형되었는지 확인합시다."
   ]
  },
  {
   "cell_type": "code",
   "execution_count": 155,
   "metadata": {},
   "outputs": [
    {
     "data": {
      "text/plain": [
       "array([ 0.,  0.,  0.,  0.,  0.,  1.,  0.,  0.,  0.,  0.])"
      ]
     },
     "execution_count": 155,
     "metadata": {},
     "output_type": "execute_result"
    }
   ],
   "source": [
    "y_train_mod[0]"
   ]
  },
  {
   "cell_type": "code",
   "execution_count": 156,
   "metadata": {},
   "outputs": [
    {
     "data": {
      "text/plain": [
       "array([ 0.,  0.,  0.,  0.,  0.,  0.,  0.,  1.,  0.,  0.])"
      ]
     },
     "execution_count": 156,
     "metadata": {},
     "output_type": "execute_result"
    }
   ],
   "source": [
    "y_test_mod[0]"
   ]
  },
  {
   "cell_type": "markdown",
   "metadata": {},
   "source": [
    "## Create a model\n",
    "\n",
    "**model**이라는 Sequential 모델을 생성합시다."
   ]
  },
  {
   "cell_type": "code",
   "execution_count": 157,
   "metadata": {},
   "outputs": [],
   "source": [
    "model = Sequential()"
   ]
  },
  {
   "cell_type": "markdown",
   "metadata": {},
   "source": [
    "### 첫번째 레이어 생성하기\n",
    "\n",
    "모델을 생성하고 64개의 노드를 가진 레이어를 생성합시다. 이때 activation은 relu를 사용합시다."
   ]
  },
  {
   "cell_type": "code",
   "execution_count": 158,
   "metadata": {},
   "outputs": [],
   "source": [
    "model.add(Dense(units=64, input_dim=784, activation='relu'))"
   ]
  },
  {
   "cell_type": "markdown",
   "metadata": {},
   "source": [
    "### 두번째 레이어 추가하기\n",
    "\n",
    "우리가 원하는 결과값 (10개의 숫자 중 어떤 숫자인지를 판별)을 얻기 위해 마지막에는 10개의 노드를 가진 레이어를 생성합시다. 이때 activation은 softmax를 사용합시다."
   ]
  },
  {
   "cell_type": "code",
   "execution_count": 159,
   "metadata": {},
   "outputs": [],
   "source": [
    "model.add(Dense(units=10, activation='softmax'))"
   ]
  },
  {
   "cell_type": "markdown",
   "metadata": {},
   "source": [
    "# 모델 시각화하기"
   ]
  },
  {
   "cell_type": "code",
   "execution_count": 160,
   "metadata": {},
   "outputs": [],
   "source": [
    "from IPython.display import SVG\n",
    "from keras.utils.vis_utils import model_to_dot"
   ]
  },
  {
   "cell_type": "code",
   "execution_count": 161,
   "metadata": {
    "scrolled": true
   },
   "outputs": [
    {
     "data": {
      "image/svg+xml": [
       "<svg height=\"221pt\" viewBox=\"0.00 0.00 316.00 221.00\" width=\"316pt\" xmlns=\"http://www.w3.org/2000/svg\" xmlns:xlink=\"http://www.w3.org/1999/xlink\">\n",
       "<g class=\"graph\" id=\"graph0\" transform=\"scale(1 1) rotate(0) translate(4 217)\">\n",
       "<title>G</title>\n",
       "<polygon fill=\"white\" points=\"-4,4 -4,-217 312,-217 312,4 -4,4\" stroke=\"none\"/>\n",
       "<!-- 140172503352824 -->\n",
       "<g class=\"node\" id=\"node1\"><title>140172503352824</title>\n",
       "<polygon fill=\"none\" points=\"0,-166.5 0,-212.5 308,-212.5 308,-166.5 0,-166.5\" stroke=\"black\"/>\n",
       "<text font-family=\"Times,serif\" font-size=\"14.00\" text-anchor=\"middle\" x=\"85\" y=\"-185.8\">dense_20_input: InputLayer</text>\n",
       "<polyline fill=\"none\" points=\"170,-166.5 170,-212.5 \" stroke=\"black\"/>\n",
       "<text font-family=\"Times,serif\" font-size=\"14.00\" text-anchor=\"middle\" x=\"197.5\" y=\"-197.3\">input:</text>\n",
       "<polyline fill=\"none\" points=\"170,-189.5 225,-189.5 \" stroke=\"black\"/>\n",
       "<text font-family=\"Times,serif\" font-size=\"14.00\" text-anchor=\"middle\" x=\"197.5\" y=\"-174.3\">output:</text>\n",
       "<polyline fill=\"none\" points=\"225,-166.5 225,-212.5 \" stroke=\"black\"/>\n",
       "<text font-family=\"Times,serif\" font-size=\"14.00\" text-anchor=\"middle\" x=\"266.5\" y=\"-197.3\">(None, 784)</text>\n",
       "<polyline fill=\"none\" points=\"225,-189.5 308,-189.5 \" stroke=\"black\"/>\n",
       "<text font-family=\"Times,serif\" font-size=\"14.00\" text-anchor=\"middle\" x=\"266.5\" y=\"-174.3\">(None, 784)</text>\n",
       "</g>\n",
       "<!-- 140172503352600 -->\n",
       "<g class=\"node\" id=\"node2\"><title>140172503352600</title>\n",
       "<polygon fill=\"none\" points=\"30.5,-83.5 30.5,-129.5 277.5,-129.5 277.5,-83.5 30.5,-83.5\" stroke=\"black\"/>\n",
       "<text font-family=\"Times,serif\" font-size=\"14.00\" text-anchor=\"middle\" x=\"85\" y=\"-102.8\">dense_20: Dense</text>\n",
       "<polyline fill=\"none\" points=\"139.5,-83.5 139.5,-129.5 \" stroke=\"black\"/>\n",
       "<text font-family=\"Times,serif\" font-size=\"14.00\" text-anchor=\"middle\" x=\"167\" y=\"-114.3\">input:</text>\n",
       "<polyline fill=\"none\" points=\"139.5,-106.5 194.5,-106.5 \" stroke=\"black\"/>\n",
       "<text font-family=\"Times,serif\" font-size=\"14.00\" text-anchor=\"middle\" x=\"167\" y=\"-91.3\">output:</text>\n",
       "<polyline fill=\"none\" points=\"194.5,-83.5 194.5,-129.5 \" stroke=\"black\"/>\n",
       "<text font-family=\"Times,serif\" font-size=\"14.00\" text-anchor=\"middle\" x=\"236\" y=\"-114.3\">(None, 784)</text>\n",
       "<polyline fill=\"none\" points=\"194.5,-106.5 277.5,-106.5 \" stroke=\"black\"/>\n",
       "<text font-family=\"Times,serif\" font-size=\"14.00\" text-anchor=\"middle\" x=\"236\" y=\"-91.3\">(None, 64)</text>\n",
       "</g>\n",
       "<!-- 140172503352824&#45;&gt;140172503352600 -->\n",
       "<g class=\"edge\" id=\"edge1\"><title>140172503352824-&gt;140172503352600</title>\n",
       "<path d=\"M154,-166.366C154,-158.152 154,-148.658 154,-139.725\" fill=\"none\" stroke=\"black\"/>\n",
       "<polygon fill=\"black\" points=\"157.5,-139.607 154,-129.607 150.5,-139.607 157.5,-139.607\" stroke=\"black\"/>\n",
       "</g>\n",
       "<!-- 140172503355120 -->\n",
       "<g class=\"node\" id=\"node3\"><title>140172503355120</title>\n",
       "<polygon fill=\"none\" points=\"34,-0.5 34,-46.5 274,-46.5 274,-0.5 34,-0.5\" stroke=\"black\"/>\n",
       "<text font-family=\"Times,serif\" font-size=\"14.00\" text-anchor=\"middle\" x=\"88.5\" y=\"-19.8\">dense_21: Dense</text>\n",
       "<polyline fill=\"none\" points=\"143,-0.5 143,-46.5 \" stroke=\"black\"/>\n",
       "<text font-family=\"Times,serif\" font-size=\"14.00\" text-anchor=\"middle\" x=\"170.5\" y=\"-31.3\">input:</text>\n",
       "<polyline fill=\"none\" points=\"143,-23.5 198,-23.5 \" stroke=\"black\"/>\n",
       "<text font-family=\"Times,serif\" font-size=\"14.00\" text-anchor=\"middle\" x=\"170.5\" y=\"-8.3\">output:</text>\n",
       "<polyline fill=\"none\" points=\"198,-0.5 198,-46.5 \" stroke=\"black\"/>\n",
       "<text font-family=\"Times,serif\" font-size=\"14.00\" text-anchor=\"middle\" x=\"236\" y=\"-31.3\">(None, 64)</text>\n",
       "<polyline fill=\"none\" points=\"198,-23.5 274,-23.5 \" stroke=\"black\"/>\n",
       "<text font-family=\"Times,serif\" font-size=\"14.00\" text-anchor=\"middle\" x=\"236\" y=\"-8.3\">(None, 10)</text>\n",
       "</g>\n",
       "<!-- 140172503352600&#45;&gt;140172503355120 -->\n",
       "<g class=\"edge\" id=\"edge2\"><title>140172503352600-&gt;140172503355120</title>\n",
       "<path d=\"M154,-83.3664C154,-75.1516 154,-65.6579 154,-56.7252\" fill=\"none\" stroke=\"black\"/>\n",
       "<polygon fill=\"black\" points=\"157.5,-56.6068 154,-46.6068 150.5,-56.6069 157.5,-56.6068\" stroke=\"black\"/>\n",
       "</g>\n",
       "</g>\n",
       "</svg>"
      ],
      "text/plain": [
       "<IPython.core.display.SVG object>"
      ]
     },
     "execution_count": 161,
     "metadata": {},
     "output_type": "execute_result"
    }
   ],
   "source": [
    "SVG(model_to_dot(model, show_shapes=True).create(prog='dot', format='svg'))"
   ]
  },
  {
   "cell_type": "code",
   "execution_count": null,
   "metadata": {},
   "outputs": [],
   "source": []
  },
  {
   "cell_type": "markdown",
   "metadata": {},
   "source": [
    "제대로 구성되었나요?"
   ]
  },
  {
   "cell_type": "markdown",
   "metadata": {},
   "source": [
    "# 모델의 학습 과정 설정하기\n",
    "\n",
    "아래 구문을 이용해서 모델이 어떻게 학습을 할지를 설정합니다.\n",
    "\n",
    "    model.compile(loss=사용하고자하는loss유형, metrics=사용하고자하는지표리스트, optimizer=사용하고자하는옵티마이저이름)\n",
    "    \n",
    "loss에는 multi-class classification에 적합한 'categorical_crossentropy'를, optimizer에는 sgd를 metrics에는 정확도를 사용합시다."
   ]
  },
  {
   "cell_type": "code",
   "execution_count": 162,
   "metadata": {},
   "outputs": [],
   "source": [
    "model.compile(loss='categorical_crossentropy', optimizer='sgd', metrics=['accuracy'])"
   ]
  },
  {
   "cell_type": "markdown",
   "metadata": {},
   "source": [
    "# 모델 학습하기\n",
    "\n",
    "이제 모델을 학습시킵시다.\n",
    "\n",
    "    model.fit(학습데이터, 학습레이블, batch_size=배치개수, epochs=학습회수)\n",
    "    \n",
    "데이터가 크기 때문에 배치개수는 32개로 하고 학습은 5회 정도로 해 봅시다. fit 메소드는 학습 과정의 히스토리를 반환합니다. 이 값을 **hist**라는 변수에 저장해 봅시다."
   ]
  },
  {
   "cell_type": "code",
   "execution_count": 163,
   "metadata": {},
   "outputs": [
    {
     "name": "stdout",
     "output_type": "stream",
     "text": [
      "Epoch 1/5\n",
      "60000/60000 [==============================] - 10s - loss: 0.6698 - acc: 0.8305    \n",
      "Epoch 2/5\n",
      "60000/60000 [==============================] - 10s - loss: 0.3454 - acc: 0.9033    \n",
      "Epoch 3/5\n",
      "60000/60000 [==============================] - 11s - loss: 0.2979 - acc: 0.9162    \n",
      "Epoch 4/5\n",
      "60000/60000 [==============================] - 10s - loss: 0.2691 - acc: 0.9240    \n",
      "Epoch 5/5\n",
      "60000/60000 [==============================] - 9s - loss: 0.2470 - acc: 0.9305     \n"
     ]
    }
   ],
   "source": [
    "hist = model.fit(x_train_norm, y_train_mod, batch_size=32, epochs=5)"
   ]
  },
  {
   "cell_type": "markdown",
   "metadata": {},
   "source": [
    "# 학습 과정 살펴보기\n",
    "\n",
    "## history 살펴보기\n",
    "\n",
    "모델의 학습 과정을 저장한 변수인 **hist**를 출력해 봅시다. 아래와 같이 history라는 속성을 지정해야만 원하는 값을 얻을 수 있습니다.\n",
    "\n",
    "    hist.history"
   ]
  },
  {
   "cell_type": "code",
   "execution_count": 164,
   "metadata": {},
   "outputs": [
    {
     "data": {
      "text/plain": [
       "{'acc': [0.83050000000000002,\n",
       "  0.90328333333333333,\n",
       "  0.91620000000000001,\n",
       "  0.92398333333333338,\n",
       "  0.93048333333333333],\n",
       " 'loss': [0.66982555380662279,\n",
       "  0.34544313565691315,\n",
       "  0.2978670123696327,\n",
       "  0.26907469138701756,\n",
       "  0.24700683068037033]}"
      ]
     },
     "execution_count": 164,
     "metadata": {},
     "output_type": "execute_result"
    }
   ],
   "source": [
    "hist.history"
   ]
  },
  {
   "cell_type": "markdown",
   "metadata": {},
   "source": [
    "# 모델 평가하기\n",
    "\n",
    "학습 결과를 확인하기 위해 아래 구문을 사용합시다.\n",
    "\n",
    "    model.evaluate(테스트데이터, 테스트레이블)    "
   ]
  },
  {
   "cell_type": "code",
   "execution_count": 165,
   "metadata": {},
   "outputs": [
    {
     "name": "stdout",
     "output_type": "stream",
     "text": [
      " 9728/10000 [============================>.] - ETA: 0s"
     ]
    },
    {
     "data": {
      "text/plain": [
       "[0.23204573025405406, 0.93469999999999998]"
      ]
     },
     "execution_count": 165,
     "metadata": {},
     "output_type": "execute_result"
    }
   ],
   "source": [
    "model.evaluate(x_test_norm, y_test_mod)"
   ]
  },
  {
   "cell_type": "markdown",
   "metadata": {},
   "source": [
    "## 학습한 모델로 테스트 데이터 예측해 보기\n",
    "\n",
    "테스트 데이터 중 첫번째 데이터의 결과값을 예측해 봅시다.\n",
    "\n",
    "    model.predict(data)"
   ]
  },
  {
   "cell_type": "code",
   "execution_count": 166,
   "metadata": {},
   "outputs": [
    {
     "data": {
      "text/plain": [
       "array([  2.38163382e-04,   1.09227251e-07,   6.84610393e-04,\n",
       "         2.86139571e-03,   1.85625515e-06,   2.61543610e-04,\n",
       "         1.37245436e-07,   9.95303273e-01,   3.18392667e-05,\n",
       "         6.17182348e-04], dtype=float32)"
      ]
     },
     "execution_count": 166,
     "metadata": {},
     "output_type": "execute_result"
    }
   ],
   "source": [
    "model.predict(x_test_norm)[0]"
   ]
  },
  {
   "cell_type": "markdown",
   "metadata": {},
   "source": [
    "값을 확인하기 어려우니 가장 큰 값의 인덱스를 확인해 봅시다. argmax()를 이용하면 가장 큰 값의 인덱스를 얻을 수 있습니다.\n",
    "\n",
    "    numpy.array.argmax()"
   ]
  },
  {
   "cell_type": "code",
   "execution_count": 167,
   "metadata": {},
   "outputs": [
    {
     "data": {
      "text/plain": [
       "7"
      ]
     },
     "execution_count": 167,
     "metadata": {},
     "output_type": "execute_result"
    }
   ],
   "source": [
    "model.predict(x_test_norm)[0].argmax()"
   ]
  },
  {
   "cell_type": "markdown",
   "metadata": {},
   "source": [
    "제대로 된 결과값인가요? 확인을 위해 해당 이미지를 출력해 봅시다."
   ]
  },
  {
   "cell_type": "markdown",
   "metadata": {},
   "source": [
    "### 이미지 데이터 표시하기"
   ]
  },
  {
   "cell_type": "code",
   "execution_count": 168,
   "metadata": {},
   "outputs": [],
   "source": [
    "import matplotlib.pyplot as plt\n",
    "%matplotlib inline"
   ]
  },
  {
   "cell_type": "markdown",
   "metadata": {},
   "source": [
    "## Quiz\n",
    "\n",
    "현재 변형된 이미지 데이터를 원래의 형태로 되돌리는 함수를 만들어 봅시다.\n",
    "\n",
    "- 입력으로는 이미지 array를 받는다.\n",
    "- 원래의 다차원 형태로 변형한다.\n",
    "- normalize를 되돌린다."
   ]
  },
  {
   "cell_type": "code",
   "execution_count": 169,
   "metadata": {},
   "outputs": [],
   "source": [
    "def orgin_data(arr):\n",
    "    return arr.reshape(28,28)*255"
   ]
  },
  {
   "cell_type": "code",
   "execution_count": 170,
   "metadata": {},
   "outputs": [
    {
     "data": {
      "text/plain": [
       "<matplotlib.image.AxesImage at 0x7f7c5bb5d2b0>"
      ]
     },
     "execution_count": 170,
     "metadata": {},
     "output_type": "execute_result"
    },
    {
     "data": {
      "image/png": "[encoded data removed]",
      "text/plain": [
       "<matplotlib.figure.Figure at 0x7f7c5bbae470>"
      ]
     },
     "metadata": {},
     "output_type": "display_data"
    }
   ],
   "source": [
    "plt.imshow(orgin_data(x_test[0]))"
   ]
  },
  {
   "cell_type": "code",
   "execution_count": null,
   "metadata": {},
   "outputs": [],
   "source": []
  },
  {
   "cell_type": "markdown",
   "metadata": {},
   "source": [
    "7이 맞나요?"
   ]
  },
  {
   "cell_type": "markdown",
   "metadata": {},
   "source": [
    "## Save and Load the model"
   ]
  },
  {
   "cell_type": "code",
   "execution_count": 171,
   "metadata": {},
   "outputs": [],
   "source": [
    "from keras.models import load_model\n",
    "\n",
    "model.save('mnist_mlp_model.h5')\n",
    "model = load_model('mnist_mlp_model.h5')"
   ]
  },
  {
   "cell_type": "markdown",
   "metadata": {},
   "source": [
    "## Reference\n",
    "\n",
    "https://github.com/keras-team/keras/blob/master/examples/mnist_mlp.py"
   ]
  },
  {
   "cell_type": "code",
   "execution_count": null,
   "metadata": {},
   "outputs": [],
   "source": []
  }
 ],
 "metadata": {
  "kernelspec": {
   "display_name": "Python 3",
   "language": "python",
   "name": "python3"
  },
  "language_info": {
   "codemirror_mode": {
    "name": "ipython",
    "version": 3
   },
   "file_extension": ".py",
   "mimetype": "text/x-python",
   "name": "python",
   "nbconvert_exporter": "python",
   "pygments_lexer": "ipython3",
   "version": "3.5.4"
  }
 },
 "nbformat": 4,
 "nbformat_minor": 2
}
